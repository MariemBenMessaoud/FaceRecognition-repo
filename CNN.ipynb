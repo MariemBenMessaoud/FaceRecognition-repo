{
  "nbformat": 4,
  "nbformat_minor": 0,
  "metadata": {
    "colab": {
      "provenance": [],
      "authorship_tag": "ABX9TyODjECBZg9nFCRCkQXPcBkj",
      "include_colab_link": true
    },
    "kernelspec": {
      "name": "python3",
      "display_name": "Python 3"
    },
    "language_info": {
      "name": "python"
    }
  },
  "cells": [
    {
      "cell_type": "markdown",
      "metadata": {
        "id": "view-in-github",
        "colab_type": "text"
      },
      "source": [
        "<a href=\"https://colab.research.google.com/github/MariemBenMessaoud/FaceRecognition-repo/blob/main/CNN.ipynb\" target=\"_parent\"><img src=\"https://colab.research.google.com/assets/colab-badge.svg\" alt=\"Open In Colab\"/></a>"
      ]
    },
    {
      "cell_type": "code",
      "execution_count": 1,
      "metadata": {
        "id": "rtdSeK9E0K_e",
        "colab": {
          "base_uri": "https://localhost:8080/"
        },
        "outputId": "39ca44fc-8b0f-4bbf-abb1-9554e34d113d"
      },
      "outputs": [
        {
          "output_type": "stream",
          "name": "stdout",
          "text": [
            "Mounted at /content/drive\n"
          ]
        }
      ],
      "source": [
        "from google.colab import drive\n",
        "drive.mount('/content/drive')"
      ]
    },
    {
      "cell_type": "code",
      "source": [
        "import shutil\n",
        "import os\n",
        "\n",
        "# Créez le dossier 'images' localement (optionnel, shutil.copytree le fait aussi)\n",
        "os.makedirs('/content/images', exist_ok=True)\n",
        "\n",
        "# Chemin du dossier source dans Google Drive\n",
        "source_folder = '/content/drive/My Drive/Colab Notebooks/KDEF'\n",
        "\n",
        "# Chemin où vous voulez copier le dossier dans Colab\n",
        "destination_folder = '/content/images/'\n",
        "\n",
        "# Copier tout le dossier\n",
        "shutil.copytree(source_folder, destination_folder, dirs_exist_ok=True)\n",
        "\n",
        "# Vérifiez que les fichiers ont été copiés\n",
        "print(\"Fichiers copiés dans Colab :\")\n",
        "!ls /content/images/"
      ],
      "metadata": {
        "colab": {
          "base_uri": "https://localhost:8080/"
        },
        "id": "YOTzUnHHMU6x",
        "outputId": "c27c5085-34bd-4fd1-bd6b-255f3b23f893"
      },
      "execution_count": 2,
      "outputs": [
        {
          "output_type": "stream",
          "name": "stdout",
          "text": [
            "Fichiers copiés dans Colab :\n",
            "Angry  Disgust\tFear  Happy  Neutral  Sad  Surprised\n"
          ]
        }
      ]
    },
    {
      "cell_type": "code",
      "source": [
        "# Importation des bibliothèques nécessaires\n",
        "import pandas as pd\n",
        "import numpy as np\n",
        "import matplotlib.pyplot as plt\n",
        "import seaborn as sns\n",
        "import glob\n",
        "import cv2\n",
        "import time\n",
        "import os\n",
        "\n",
        "# Importation de TensorFlow et des modules nécessaires pour les modèles\n",
        "import tensorflow as tf\n",
        "from keras.applications.densenet import DenseNet121\n",
        "from keras.applications.vgg16 import VGG16\n",
        "from keras.applications.inception_v3 import InceptionV3\n",
        "from keras.applications.mobilenet_v2 import MobileNetV2\n",
        "from keras.applications.nasnet import NASNetLarge\n",
        "from keras.applications.inception_resnet_v2 import InceptionResNetV2\n",
        "from keras.applications.resnet50 import ResNet50\n",
        "from keras.applications.efficientnet_v2 import EfficientNetV2B3\n",
        "from keras.applications.efficientnet import EfficientNetB7\n",
        "\n",
        "# Importation des couches et outils de Keras\n",
        "from keras.layers import (Dense, GlobalAveragePooling2D, Flatten, BatchNormalization,\n",
        "                          Input, Average, concatenate, Dropout)\n",
        "from keras.models import Model, Sequential\n",
        "from tensorflow.keras.preprocessing.image import ImageDataGenerator, load_img, img_to_array\n",
        "\n",
        "# Importation d'un module de sklearn pour la réduction de dimensionnalité\n",
        "from sklearn.decomposition import PCA\n"
      ],
      "metadata": {
        "id": "6jyM7VCaMsaD"
      },
      "execution_count": 4,
      "outputs": []
    },
    {
      "cell_type": "code",
      "source": [
        "#!pip install split-folders\n",
        "#import splitfolders\n",
        "#input_folder='/content/drive/My Drive/Colab Notebooks/KDEF'\n",
        "#splitfolders.ratio(input_folder, output='/content/drive/My Drive/Colab Notebooks/KDEF1', seed=42, ratio=(0.7,0.3), group_prefix=None)"
      ],
      "metadata": {
        "colab": {
          "base_uri": "https://localhost:8080/"
        },
        "id": "Pb8s3QMNdpvb",
        "outputId": "ea9b4639-65c8-4d33-ac9e-7ef731d57665"
      },
      "execution_count": 5,
      "outputs": [
        {
          "output_type": "stream",
          "name": "stdout",
          "text": [
            "Collecting split-folders\n",
            "  Downloading split_folders-0.5.1-py3-none-any.whl.metadata (6.2 kB)\n",
            "Downloading split_folders-0.5.1-py3-none-any.whl (8.4 kB)\n",
            "Installing collected packages: split-folders\n",
            "Successfully installed split-folders-0.5.1\n"
          ]
        },
        {
          "output_type": "stream",
          "name": "stderr",
          "text": [
            "Copying files: 490 files [07:23,  1.10 files/s]\n"
          ]
        }
      ]
    },
    {
      "cell_type": "code",
      "source": [
        "SIZE=224"
      ],
      "metadata": {
        "id": "mI0DCT4Oizzj"
      },
      "execution_count": null,
      "outputs": []
    },
    {
      "cell_type": "code",
      "source": [
        "train_image = []\n",
        "train_label = []\n",
        "\n",
        "for directory_path in glob.glob(\"/content/drive/My Drive/Colab Notebooks/KDEF1/train/*\"):\n",
        "    label = directory_path.split(\"\\\\\")[-1]\n",
        "    print(label)\n",
        "    for img_path in glob.glob(os.path.join(directory_path, \"*.tiff\")):\n",
        "        print(img_path)\n",
        "        img = cv2.imread(img_path, cv2.IMREAD_COLOR)\n",
        "        img = cv2.resize(img, (SIZE, SIZE))\n",
        "        img = cv2.cvtColor(img, cv2.COLOR_RGB2BGR)\n",
        "        train_image.append(img)\n",
        "        train_label.append(label)\n",
        "train_image = np.array(train_image)\n",
        "train_label = np.array(train_label)"
      ],
      "metadata": {
        "colab": {
          "base_uri": "https://localhost:8080/"
        },
        "id": "RADgJL2ri7-m",
        "outputId": "575f49c7-b7b8-43d0-c80d-dd049a5a0088"
      },
      "execution_count": 6,
      "outputs": [
        {
          "output_type": "stream",
          "name": "stdout",
          "text": [
            "/content/drive/My Drive/Colab Notebooks/KDEF1/train/Fear\n",
            "/content/drive/My Drive/Colab Notebooks/KDEF1/train/Happy\n",
            "/content/drive/My Drive/Colab Notebooks/KDEF1/train/Surprised\n",
            "/content/drive/My Drive/Colab Notebooks/KDEF1/train/Sad\n",
            "/content/drive/My Drive/Colab Notebooks/KDEF1/train/Disgust\n",
            "/content/drive/My Drive/Colab Notebooks/KDEF1/train/Angry\n",
            "/content/drive/My Drive/Colab Notebooks/KDEF1/train/Neutral\n"
          ]
        }
      ]
    },
    {
      "cell_type": "code",
      "source": [
        "\n",
        "\n",
        "model.compile(optimizer='adam', loss='categorical_crossentropy', metrics=['accuracy'])\n",
        "\n",
        "# set up data generators for train, test, and validation sets\n",
        "\n",
        "train_datagen =ImageDataGenerator(rescale=1./255)\n",
        "\n",
        "test_datagen =ImageDataGenerator(rescale=1./255)\n",
        "\n",
        "train_generator =train_datagen.flow_from_directory(\n",
        "   '/content/drive/MyDrive/Colab Notebooks/KDEF1/train',\n",
        "\n",
        "    target_size=input_size,\n",
        "\n",
        "    batch_size=32,\n",
        "\n",
        "    class_mode='categorical')\n",
        "\n",
        "test_generator= test_datagen.flow_from_directory(\n",
        "\n",
        "    '/content/drive/MyDrive/Colab Notebooks/KDEF1/val',\n",
        "\n",
        "    target_size=input_size,\n",
        "\n",
        "    batch_size=32,\n",
        "\n",
        "    class_mode='categorical', shuffle=False)"
      ],
      "metadata": {
        "colab": {
          "base_uri": "https://localhost:8080/"
        },
        "id": "Xfpe7M-8l7ee",
        "outputId": "c0fc58d6-5585-4f8d-f746-a84c51367a7e"
      },
      "execution_count": 21,
      "outputs": [
        {
          "output_type": "stream",
          "name": "stdout",
          "text": [
            "Found 343 images belonging to 7 classes.\n",
            "Found 147 images belonging to 7 classes.\n"
          ]
        }
      ]
    }
  ]
}